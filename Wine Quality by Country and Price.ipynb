{
 "cells": [
  {
   "cell_type": "markdown",
   "metadata": {},
   "source": [
    "# Wine Quality by Country and Price"
   ]
  },
  {
   "cell_type": "code",
   "execution_count": 37,
   "metadata": {},
   "outputs": [],
   "source": [
    "#Sklearn Processing Packages:\n",
    "from sklearn.model_selection import GridSearchCV, train_test_split\n",
    "from sklearn.metrics import f1_score, accuracy_score, log_loss\n",
    "from sklearn import preprocessing\n",
    "from sklearn.preprocessing import LabelEncoder\n",
    "\n",
    "#Data Loading and Processing Packages:\n",
    "import pandas as pd\n",
    "import numpy as np\n",
    "\n",
    "#Data Visualization Packages:\n",
    "import matplotlib.pyplot as plt\n",
    "import seaborn as sns\n",
    "from matplotlib import cm as cm"
   ]
  },
  {
   "cell_type": "markdown",
   "metadata": {},
   "source": [
    "## Importing and Preparing Data"
   ]
  },
  {
   "cell_type": "code",
   "execution_count": 45,
   "metadata": {},
   "outputs": [
    {
     "data": {
      "text/html": [
       "<div>\n",
       "<style scoped>\n",
       "    .dataframe tbody tr th:only-of-type {\n",
       "        vertical-align: middle;\n",
       "    }\n",
       "\n",
       "    .dataframe tbody tr th {\n",
       "        vertical-align: top;\n",
       "    }\n",
       "\n",
       "    .dataframe thead th {\n",
       "        text-align: right;\n",
       "    }\n",
       "</style>\n",
       "<table border=\"1\" class=\"dataframe\">\n",
       "  <thead>\n",
       "    <tr style=\"text-align: right;\">\n",
       "      <th></th>\n",
       "      <th>Unnamed: 0</th>\n",
       "      <th>country</th>\n",
       "      <th>description</th>\n",
       "      <th>designation</th>\n",
       "      <th>points</th>\n",
       "      <th>price</th>\n",
       "      <th>province</th>\n",
       "      <th>region_1</th>\n",
       "      <th>region_2</th>\n",
       "      <th>taster_name</th>\n",
       "      <th>taster_twitter_handle</th>\n",
       "      <th>title</th>\n",
       "      <th>variety</th>\n",
       "      <th>winery</th>\n",
       "    </tr>\n",
       "  </thead>\n",
       "  <tbody>\n",
       "    <tr>\n",
       "      <th>0</th>\n",
       "      <td>0</td>\n",
       "      <td>Italy</td>\n",
       "      <td>Aromas include tropical fruit, broom, brimston...</td>\n",
       "      <td>Vulkà Bianco</td>\n",
       "      <td>87</td>\n",
       "      <td>NaN</td>\n",
       "      <td>Sicily &amp; Sardinia</td>\n",
       "      <td>Etna</td>\n",
       "      <td>NaN</td>\n",
       "      <td>Kerin O’Keefe</td>\n",
       "      <td>@kerinokeefe</td>\n",
       "      <td>Nicosia 2013 Vulkà Bianco  (Etna)</td>\n",
       "      <td>White Blend</td>\n",
       "      <td>Nicosia</td>\n",
       "    </tr>\n",
       "    <tr>\n",
       "      <th>1</th>\n",
       "      <td>1</td>\n",
       "      <td>Portugal</td>\n",
       "      <td>This is ripe and fruity, a wine that is smooth...</td>\n",
       "      <td>Avidagos</td>\n",
       "      <td>87</td>\n",
       "      <td>15.0</td>\n",
       "      <td>Douro</td>\n",
       "      <td>NaN</td>\n",
       "      <td>NaN</td>\n",
       "      <td>Roger Voss</td>\n",
       "      <td>@vossroger</td>\n",
       "      <td>Quinta dos Avidagos 2011 Avidagos Red (Douro)</td>\n",
       "      <td>Portuguese Red</td>\n",
       "      <td>Quinta dos Avidagos</td>\n",
       "    </tr>\n",
       "    <tr>\n",
       "      <th>2</th>\n",
       "      <td>2</td>\n",
       "      <td>US</td>\n",
       "      <td>Tart and snappy, the flavors of lime flesh and...</td>\n",
       "      <td>NaN</td>\n",
       "      <td>87</td>\n",
       "      <td>14.0</td>\n",
       "      <td>Oregon</td>\n",
       "      <td>Willamette Valley</td>\n",
       "      <td>Willamette Valley</td>\n",
       "      <td>Paul Gregutt</td>\n",
       "      <td>@paulgwine</td>\n",
       "      <td>Rainstorm 2013 Pinot Gris (Willamette Valley)</td>\n",
       "      <td>Pinot Gris</td>\n",
       "      <td>Rainstorm</td>\n",
       "    </tr>\n",
       "  </tbody>\n",
       "</table>\n",
       "</div>"
      ],
      "text/plain": [
       "   Unnamed: 0   country                                        description  \\\n",
       "0           0     Italy  Aromas include tropical fruit, broom, brimston...   \n",
       "1           1  Portugal  This is ripe and fruity, a wine that is smooth...   \n",
       "2           2        US  Tart and snappy, the flavors of lime flesh and...   \n",
       "\n",
       "    designation  points  price           province           region_1  \\\n",
       "0  Vulkà Bianco      87    NaN  Sicily & Sardinia               Etna   \n",
       "1      Avidagos      87   15.0              Douro                NaN   \n",
       "2           NaN      87   14.0             Oregon  Willamette Valley   \n",
       "\n",
       "            region_2    taster_name taster_twitter_handle  \\\n",
       "0                NaN  Kerin O’Keefe          @kerinokeefe   \n",
       "1                NaN     Roger Voss            @vossroger   \n",
       "2  Willamette Valley   Paul Gregutt           @paulgwine    \n",
       "\n",
       "                                           title         variety  \\\n",
       "0              Nicosia 2013 Vulkà Bianco  (Etna)     White Blend   \n",
       "1  Quinta dos Avidagos 2011 Avidagos Red (Douro)  Portuguese Red   \n",
       "2  Rainstorm 2013 Pinot Gris (Willamette Valley)      Pinot Gris   \n",
       "\n",
       "                winery  \n",
       "0              Nicosia  \n",
       "1  Quinta dos Avidagos  \n",
       "2            Rainstorm  "
      ]
     },
     "execution_count": 45,
     "metadata": {},
     "output_type": "execute_result"
    }
   ],
   "source": [
    "wine=pd.read_csv(\"wines2.csv\", sep=',')\n",
    "wine.head(3)"
   ]
  },
  {
   "cell_type": "markdown",
   "metadata": {},
   "source": [
    "### Converting Categorical Data Using Dummy Variables"
   ]
  },
  {
   "cell_type": "code",
   "execution_count": 46,
   "metadata": {},
   "outputs": [],
   "source": [
    "fin_win=wine[['country','points','price']]\n",
    "fin_win=pd.get_dummies(fin_win)"
   ]
  },
  {
   "cell_type": "markdown",
   "metadata": {},
   "source": [
    "#### Remove NAN values:"
   ]
  },
  {
   "cell_type": "code",
   "execution_count": 47,
   "metadata": {},
   "outputs": [],
   "source": [
    "fin_win = fin_win[np.isfinite(fin_win['price'])]"
   ]
  },
  {
   "cell_type": "markdown",
   "metadata": {},
   "source": [
    "## Test and Train Data"
   ]
  },
  {
   "cell_type": "code",
   "execution_count": 48,
   "metadata": {},
   "outputs": [
    {
     "name": "stdout",
     "output_type": "stream",
     "text": [
      "(96780, 43)\n",
      "(96780,)\n",
      "(24195, 43)\n",
      "(24195,)\n"
     ]
    }
   ],
   "source": [
    "# STEP 1: split X and y into training and testing sets\n",
    "X=fin_win.drop(['points','country_Egypt'],axis=1)\n",
    "y=fin_win.points\n",
    "\n",
    "X_train, X_test, y_train, y_test=train_test_split(X,y, test_size=.2, random_state=4)\n",
    "print(X_train.shape)\n",
    "print(y_train.shape)\n",
    "print(X_test.shape)\n",
    "print(y_test.shape)"
   ]
  },
  {
   "cell_type": "code",
   "execution_count": 43,
   "metadata": {},
   "outputs": [
    {
     "name": "stdout",
     "output_type": "stream",
     "text": [
      "7.557434915412453\n"
     ]
    }
   ],
   "source": [
    "lr = LinearRegression()\n",
    "lr.fit(X_train, y_train)\n",
    "y_pred=lr.predict(X_test)\n",
    "print(mean_squared_error(y_test, y_pred))"
   ]
  },
  {
   "cell_type": "code",
   "execution_count": 44,
   "metadata": {},
   "outputs": [
    {
     "name": "stdout",
     "output_type": "stream",
     "text": [
      "                            OLS Regression Results                            \n",
      "==============================================================================\n",
      "Dep. Variable:                 points   R-squared:                       0.999\n",
      "Model:                            OLS   Adj. R-squared:                  0.999\n",
      "Method:                 Least Squares   F-statistic:                 1.680e+06\n",
      "Date:                Sat, 05 Jan 2019   Prob (F-statistic):               0.00\n",
      "Time:                        17:10:12   Log-Likelihood:            -2.5326e+05\n",
      "No. Observations:               96780   AIC:                         5.066e+05\n",
      "Df Residuals:                   96739   BIC:                         5.070e+05\n",
      "Df Model:                          41                                         \n",
      "Covariance Type:            nonrobust                                         \n",
      "==================================================================================================\n",
      "                                     coef    std err          t      P>|t|      [0.025      0.975]\n",
      "--------------------------------------------------------------------------------------------------\n",
      "price                              0.0314      0.000    117.197      0.000       0.031       0.032\n",
      "country_Argentina                 85.9653      0.061   1403.622      0.000      85.845      86.085\n",
      "country_Armenia                   87.0440      2.343     37.148      0.000      82.451      91.637\n",
      "country_Australia                 87.4910      0.078   1120.442      0.000      87.338      87.644\n",
      "country_Austria                   89.2411      0.070   1266.221      0.000      89.103      89.379\n",
      "country_Bosnia and Herzegovina    87.6226      3.314     26.442      0.000      81.128      94.118\n",
      "country_Brazil                    84.2740      0.545    154.683      0.000      83.206      85.342\n",
      "country_Bulgaria                  87.6089      0.312    281.017      0.000      86.998      88.220\n",
      "country_Canada                    88.2509      0.230    383.767      0.000      87.800      88.702\n",
      "country_Chile                     85.8599      0.056   1528.609      0.000      85.750      85.970\n",
      "country_China                  -5.159e-12   6.39e-14    -80.673      0.000   -5.28e-12   -5.03e-12\n",
      "country_Croatia                   86.5160      0.443    195.350      0.000      85.648      87.384\n",
      "country_Cyprus                    86.4811      1.172     73.814      0.000      84.185      88.777\n",
      "country_Czech Republic            86.6313      1.172     73.942      0.000      84.335      88.928\n",
      "country_England                   89.9267      0.439    204.779      0.000      89.066      90.787\n",
      "country_France                    87.4318      0.030   2939.839      0.000      87.373      87.490\n",
      "country_Georgia                   87.2458      0.428    203.924      0.000      86.407      88.084\n",
      "country_Germany                   88.5261      0.081   1094.654      0.000      88.368      88.685\n",
      "country_Greece                    86.5708      0.174    498.805      0.000      86.231      86.911\n",
      "country_Hungary                   87.8259      0.304    288.940      0.000      87.230      88.422\n",
      "country_India                     89.4402      1.353     66.113      0.000      86.789      92.092\n",
      "country_Israel                    87.4653      0.169    517.876      0.000      87.134      87.796\n",
      "country_Italy                     87.3609      0.030   2878.008      0.000      87.301      87.420\n",
      "country_Lebanon                   86.9369      0.615    141.268      0.000      85.731      88.143\n",
      "country_Luxembourg                87.8830      1.482     59.301      0.000      84.978      90.788\n",
      "country_Macedonia                 86.4202      0.999     86.494      0.000      84.462      88.379\n",
      "country_Mexico                    84.5685      0.464    182.232      0.000      83.659      85.478\n",
      "country_Moldova                   86.7390      0.473    183.219      0.000      85.811      87.667\n",
      "country_Morocco                   87.5503      0.707    123.919      0.000      86.166      88.935\n",
      "country_New Zealand               87.4487      0.099    882.041      0.000      87.254      87.643\n",
      "country_Peru                      82.5655      0.999     82.636      0.000      80.607      84.524\n",
      "country_Portugal                  87.4946      0.054   1634.479      0.000      87.390      87.599\n",
      "country_Romania                   85.9044      0.346    248.630      0.000      85.227      86.582\n",
      "country_Serbia                    86.6201      1.048     82.659      0.000      84.566      88.674\n",
      "country_Slovakia                3.359e-15   5.09e-16      6.593      0.000    2.36e-15    4.36e-15\n",
      "country_Slovenia                  87.1259      0.402    216.778      0.000      86.338      87.914\n",
      "country_South Africa              87.0540      0.103    849.084      0.000      86.853      87.255\n",
      "country_Spain                     86.4224      0.046   1860.659      0.000      86.331      86.513\n",
      "country_Switzerland               86.6578      1.482     58.472      0.000      83.753      89.563\n",
      "country_Turkey                    87.2962      0.391    223.498      0.000      86.531      88.062\n",
      "country_US                        87.4166      0.019   4671.644      0.000      87.380      87.453\n",
      "country_Ukraine                   83.8029      0.957     87.605      0.000      81.928      85.678\n",
      "country_Uruguay                   85.7422      0.371    231.389      0.000      85.016      86.468\n",
      "==============================================================================\n",
      "Omnibus:                   141442.020   Durbin-Watson:                   2.010\n",
      "Prob(Omnibus):                  0.000   Jarque-Bera (JB):        257164775.248\n",
      "Skew:                           8.252   Prob(JB):                         0.00\n",
      "Kurtosis:                     254.993   Cond. No.                     2.74e+18\n",
      "==============================================================================\n",
      "\n",
      "Warnings:\n",
      "[1] Standard Errors assume that the covariance matrix of the errors is correctly specified.\n",
      "[2] The smallest eigenvalue is 3.67e-29. This might indicate that there are\n",
      "strong multicollinearity problems or that the design matrix is singular.\n"
     ]
    }
   ],
   "source": [
    "from sklearn import datasets, linear_model\n",
    "from sklearn.linear_model import LinearRegression\n",
    "import statsmodels.api as sm\n",
    "from scipy import stats\n",
    "\n",
    "#X_train = sm.add_constant(X_train)\n",
    "est = sm.OLS(y_train, X_train)\n",
    "est2 = est.fit()\n",
    "print(est2.summary())"
   ]
  },
  {
   "cell_type": "markdown",
   "metadata": {},
   "source": [
    "___________________________"
   ]
  },
  {
   "cell_type": "markdown",
   "metadata": {},
   "source": [
    "___________________________"
   ]
  }
 ],
 "metadata": {
  "kernelspec": {
   "display_name": "Python 3",
   "language": "python",
   "name": "python3"
  },
  "language_info": {
   "codemirror_mode": {
    "name": "ipython",
    "version": 3
   },
   "file_extension": ".py",
   "mimetype": "text/x-python",
   "name": "python",
   "nbconvert_exporter": "python",
   "pygments_lexer": "ipython3",
   "version": "3.7.0"
  }
 },
 "nbformat": 4,
 "nbformat_minor": 2
}
